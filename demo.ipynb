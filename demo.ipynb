{
 "cells": [
  {
   "cell_type": "code",
   "execution_count": null,
   "id": "7bd8bfd6",
   "metadata": {},
   "outputs": [],
   "source": [
    "import os\n",
    "import sys\n",
    "\n",
    "from main import compress_and_compare, decompress_b64\n",
    "\n",
    "from llama_cpp import Llama"
   ]
  },
  {
   "cell_type": "code",
   "execution_count": null,
   "id": "56934910",
   "metadata": {},
   "outputs": [],
   "source": [
    "# choose a model\n",
    "\n",
    "# throw metal warnings into the void\n",
    "stderr_backup = sys.stderr\n",
    "sys.stderr = open(os.devnull, 'w')\n",
    "\n",
    "try: \n",
    "    llm = Llama.from_pretrained(\n",
    "        repo_id=\"QuantFactory/SmolLM2-360M-GGUF\",\n",
    "        filename=\"*Q4_0.gguf\",\n",
    "        verbose=False,\n",
    "        # logits_all=True,\n",
    "        n_gpu_layers=-1,\n",
    "        n_ctx=32768,\n",
    "    )\n",
    "finally:\n",
    "    sys.stderr.close()\n",
    "    sys.stderr = stderr_backup"
   ]
  },
  {
   "cell_type": "code",
   "execution_count": null,
   "id": "cb283b7a",
   "metadata": {},
   "outputs": [],
   "source": [
    "# compress text & compare against other algs\n",
    "input_text = \"The capital of France is Paris.\"\n",
    "\n",
    "compress_and_compare(llm, input_text)"
   ]
  },
  {
   "cell_type": "code",
   "execution_count": null,
   "id": "c34462c1",
   "metadata": {},
   "outputs": [],
   "source": [
    "# compress text & compare against other algs\n",
    "input_text = \"The capital of France is Paris. The capital of Germany is Berlin. The capital of Italy is Rome. The capital of Spain is Madrid. The capital of Portugal is Lisbon. The capital of Belgium is Brussels. The capital of Netherlands is Amsterdam. The capital of Luxembourg is Luxembourg. The capital of Monaco is Monaco. The capital of Andorra is Andorra la Vella. The capital of San Marino is San Marino. The capital of Vatican City is Vatican City. The capital of Liechtenstein is Vaduz.\"\n",
    "\n",
    "compress_and_compare(llm, input_text)"
   ]
  },
  {
   "cell_type": "code",
   "execution_count": null,
   "id": "0325fbe3",
   "metadata": {},
   "outputs": [],
   "source": [
    "# compress text & compare against other algs\n",
    "input_text = \"\"\"全会充分肯定党的二十届三中全会以来中央政治局的工作。一致认为，中央政治局认真落实党的二十大和二十届历次全会精神\"\"\"\n",
    "compress_and_compare(llm, input_text)"
   ]
  },
  {
   "cell_type": "code",
   "execution_count": null,
   "id": "510855e4",
   "metadata": {},
   "outputs": [],
   "source": [
    "# compress text & compare against other algs\n",
    "input_text = \"\"\"\"In information theory, data compression, source coding,[1] or bit-rate reduction is the process of encoding information using fewer bits than the original representation.[2] Any particular compression is either lossy or lossless. Lossless compression reduces bits by identifying and eliminating statistical redundancy. No information is lost in lossless compression. Lossy compression reduces bits by removing unnecessary or less important information.[3] Typically, a device that performs data compression is referred to as an encoder, and one that performs the reversal of the process (decompression) as a decoder.\n",
    "        The process of reducing the size of a data file is often referred to as data compression. In the context of data transmission, it is called source coding: encoding is done at the source of the data before it is stored or transmitted.[4] Source coding should not be confused with channel coding, for error detection and correction or line coding, the means for mapping data onto a signal.\n",
    "        Data compression algorithms present a space–time complexity trade-off between the bytes needed to store or transmit information, and the computational resources needed to perform the encoding and decoding. The design of data compression schemes involves balancing the degree of compression, the amount of distortion introduced (when using lossy data compression), and the computational resources or time required to compress and decompress the data.[5] \"\"\"\n",
    "\n",
    "compress_and_compare(llm, input_text)"
   ]
  },
  {
   "cell_type": "code",
   "execution_count": null,
   "id": "aa8907da",
   "metadata": {},
   "outputs": [],
   "source": [
    "decompress_b64(llm, \"AAAAb/32Ms67JZFXnlOdrCN9ZUU4uS3AFjIbJA==\")"
   ]
  },
  {
   "cell_type": "code",
   "execution_count": null,
   "id": "7469a03e",
   "metadata": {},
   "outputs": [],
   "source": [
    "decompress_b64(llm, \"AAAAb/32Ms67JZFXnlOdsCN9ZUU4uS3AFjIbJA==\")"
   ]
  },
  {
   "cell_type": "code",
   "execution_count": null,
   "id": "2228e43a",
   "metadata": {},
   "outputs": [],
   "source": []
  }
 ],
 "metadata": {
  "kernelspec": {
   "display_name": "13-llm-ans-compression",
   "language": "python",
   "name": "python3"
  },
  "language_info": {
   "codemirror_mode": {
    "name": "ipython",
    "version": 3
   },
   "file_extension": ".py",
   "mimetype": "text/x-python",
   "name": "python",
   "nbconvert_exporter": "python",
   "pygments_lexer": "ipython3",
   "version": "3.12.10"
  }
 },
 "nbformat": 4,
 "nbformat_minor": 5
}
