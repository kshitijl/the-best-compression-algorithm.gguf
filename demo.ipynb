{
 "cells": [
  {
   "cell_type": "code",
   "execution_count": 11,
   "id": "7bd8bfd6",
   "metadata": {},
   "outputs": [],
   "source": [
    "import os\n",
    "import sys\n",
    "\n",
    "import base64\n",
    "import zlib\n",
    "import bz2\n",
    "import lzma\n",
    "import zstd\n",
    "\n",
    "from main import compress, decompress, Compressed\n",
    "\n",
    "from llama_cpp import Llama"
   ]
  },
  {
   "cell_type": "code",
   "execution_count": 12,
   "id": "56934910",
   "metadata": {},
   "outputs": [],
   "source": [
    "# choose a model\n",
    "\n",
    "# throw metal warnings into the void\n",
    "stderr_backup = sys.stderr\n",
    "sys.stderr = open(os.devnull, 'w')\n",
    "\n",
    "try: \n",
    "    llm = Llama.from_pretrained(\n",
    "        repo_id=\"QuantFactory/SmolLM2-360M-GGUF\",\n",
    "        filename=\"*Q4_0.gguf\",\n",
    "        verbose=False,\n",
    "        logits_all=True,\n",
    "        n_gpu_layers=-1,\n",
    "        n_ctx=32768,\n",
    "    )\n",
    "finally:\n",
    "    sys.stderr.close()\n",
    "    sys.stderr = stderr_backup"
   ]
  },
  {
   "cell_type": "code",
   "execution_count": 13,
   "id": "ad9c92e7",
   "metadata": {},
   "outputs": [],
   "source": [
    "# choose input to compress\n",
    "input_text = \"test\""
   ]
  },
  {
   "cell_type": "code",
   "execution_count": 14,
   "id": "510855e4",
   "metadata": {},
   "outputs": [
    {
     "name": "stdout",
     "output_type": "stream",
     "text": [
      "b'\\x00\\x00\\x00\\x01\\x00\\x00\\x00\\x18\\xff\\xf0\\xc8'\n"
     ]
    }
   ],
   "source": [
    "# compress text\n",
    "compressed = compress(llm, input_text)\n",
    "print(compressed.to_bytes())"
   ]
  },
  {
   "cell_type": "code",
   "execution_count": 15,
   "id": "30ba466d",
   "metadata": {},
   "outputs": [
    {
     "name": "stdout",
     "output_type": "stream",
     "text": [
      "Encoded: AAAAAQAAABj/8Mg=\n",
      "\n",
      "Compression Results:\n",
      "  Original:             4 bytes\n",
      "  LLM compressed:      11 bytes (0.36x)\n",
      "  ZSTD (level 22):      13 bytes (0.31x)\n",
      "  GZIP (level 9):      12 bytes (0.33x)\n",
      "  BZ2 (level 9):       40 bytes (0.10x)\n",
      "  LZMA (level 9):      60 bytes (0.07x)\n"
     ]
    }
   ],
   "source": [
    "# compare results\n",
    "original_bytes = input_text.encode(\"utf-8\")\n",
    "original_size = len(original_bytes)\n",
    "\n",
    "# calc llm compression ratio\n",
    "compressed_size = len(compressed.to_bytes())\n",
    "compression_ratio = original_size / compressed_size\n",
    "\n",
    "# calc compression algorithms\n",
    "gzip_size = len(zlib.compress(original_bytes, level=9))\n",
    "bz2_size = len(bz2.compress(original_bytes, compresslevel=9))\n",
    "lzma_size = len(lzma.compress(original_bytes, preset=9))\n",
    "zstd_size = len(zstd.compress(original_bytes, 22))\n",
    "\n",
    "print(f\"Encoded: {base64.b64encode(compressed.to_bytes()).decode('ascii')}\")\n",
    "print(\"\\nCompression Results:\")\n",
    "print(f\"  Original:        {original_size:>6} bytes\")\n",
    "print(\n",
    "    f\"  LLM compressed:  {compressed_size:>6} bytes ({compression_ratio:.2f}x)\"\n",
    ")\n",
    "print(\n",
    "    f\"  ZSTD (level 22):  {zstd_size:>6} bytes ({original_size / zstd_size:.2f}x)\"\n",
    ")\n",
    "print(\n",
    "    f\"  GZIP (level 9):  {gzip_size:>6} bytes ({original_size / gzip_size:.2f}x)\"\n",
    ")\n",
    "print(\n",
    "    f\"  BZ2 (level 9):   {bz2_size:>6} bytes ({original_size / bz2_size:.2f}x)\"\n",
    ")\n",
    "print(\n",
    "    f\"  LZMA (level 9):  {lzma_size:>6} bytes ({original_size / lzma_size:.2f}x)\"\n",
    ")"
   ]
  },
  {
   "cell_type": "code",
   "execution_count": 17,
   "id": "6dcea551",
   "metadata": {},
   "outputs": [
    {
     "name": "stdout",
     "output_type": "stream",
     "text": [
      "\n",
      "Decompression successful!\n"
     ]
    },
    {
     "data": {
      "text/plain": [
       "'test'"
      ]
     },
     "execution_count": 17,
     "metadata": {},
     "output_type": "execute_result"
    }
   ],
   "source": [
    "# confirm decompression\n",
    "to_decompress = Compressed.from_bytes(compressed.to_bytes())\n",
    "decompressed = decompress(llm, to_decompress)\n",
    "assert decompressed == input_text, \"Decompression failed!\"\n",
    "print(\"\\nDecompression successful!\")\n",
    "\n",
    "decompressed"
   ]
  }
 ],
 "metadata": {
  "kernelspec": {
   "display_name": "13-llm-ans-compression",
   "language": "python",
   "name": "python3"
  },
  "language_info": {
   "codemirror_mode": {
    "name": "ipython",
    "version": 3
   },
   "file_extension": ".py",
   "mimetype": "text/x-python",
   "name": "python",
   "nbconvert_exporter": "python",
   "pygments_lexer": "ipython3",
   "version": "3.12.10"
  }
 },
 "nbformat": 4,
 "nbformat_minor": 5
}
